{
 "cells": [
  {
   "cell_type": "code",
   "execution_count": null,
   "metadata": {},
   "outputs": [],
   "source": [
    "\n",
    "import pandas as pd\n",
    "from connections import connections,keys\n",
    "import requests\n",
    "import mailer_fn as mailer\n",
    "from settings import server_type"
   ]
  },
  {
   "cell_type": "code",
   "execution_count": null,
   "metadata": {},
   "outputs": [],
   "source": [
    "def get_requests_list():\n",
    "    try:\n",
    "        req_q = \"\"\"Select * from request_status\"\"\"\n",
    "        req_df = pd.read_sql(req_q, connections('prod_db_read'))\n",
    "        return {'Response':req_df.to_dict('records'),'status':True,'string_response':'List retrieved'}\n",
    "    except:\n",
    "        mailer.send_exception_mail()\n",
    "        return {'Response':{},'status':False,'string_response':'List unavailable'}\n"
   ]
  },
  {
   "cell_type": "code",
   "execution_count": null,
   "metadata": {},
   "outputs": [],
   "source": [
    "def get_source_list():\n",
    "    try:\n",
    "        req_q = \"\"\"Select id,org_code from support_orgs\"\"\"\n",
    "        req_df = pd.read_sql(req_q, connections('prod_db_read'))\n",
    "        return {'Response':req_df.to_dict('records'),'status':True,'string_response':'List retrieved'}\n",
    "    except:\n",
    "        mailer.send_exception_mail()\n",
    "        return {'Response':{},'status':False,'string_response':'List unavailable'}\n"
   ]
  },
  {
   "cell_type": "code",
   "execution_count": null,
   "metadata": {},
   "outputs": [],
   "source": [
    "def get_type_list(table_type='volunteer'):\n",
    "    try:\n",
    "        req_q = \"\"\"Select id,support_type,table_type from support_list where is_active=1\"\"\"\n",
    "        req_df = pd.read_sql(req_q, connections('prod_db_read'))\n",
    "        req_df = req_df[req_df['table_type']==table_type]\n",
    "        return {'Response':req_df[['id','support_type']].to_dict('records'),'status':True,'string_response':'List retrieved'}\n",
    "    except:\n",
    "        mailer.send_exception_mail()\n",
    "        return {'Response':{},'status':False,'string_response':'List unavailable'}\n"
   ]
  },
  {
   "cell_type": "code",
   "execution_count": null,
   "metadata": {},
   "outputs": [],
   "source": [
    "def get_moderator_list():\n",
    "    try:\n",
    "        req_q = \"\"\"Select mob_number from users where verification_team=1\"\"\"\n",
    "        req_df = pd.read_sql(req_q,connections('prod_db_read'))\n",
    "        return req_df['mob_number'].unique().tolist()\n",
    "    except:\n",
    "        mailer.send_exception_mail()\n",
    "        return []"
   ]
  },
  {
   "cell_type": "code",
   "execution_count": null,
   "metadata": {},
   "outputs": [],
   "source": [
    "def get_ticker_counts():\n",
    "    try:\n",
    "        server_con = connections('prod_db_read')\n",
    "        v_q = \"\"\"Select * from volunteers\"\"\"\n",
    "        v_df = pd.read_sql(v_q,server_con)\n",
    "        r_q = \"\"\"Select * from requests\"\"\"\n",
    "        r_df = pd.read_sql(r_q,server_con)\n",
    "\n",
    "        volunteer_count = v_df['mob_number'].nunique()\n",
    "        request_count = r_df.shape[0]\n",
    "        pending_request_count = r_df[r_df['status'].isin(['received','verified','pending'])].shape[0]\n",
    "        return {'Response':{'volunteer_count':volunteer_count,'request_count':request_count,'pending_request_count':pending_request_count},'status':True,'string_response':'Metrics computed'}\n",
    "    except:\n",
    "        mailer.send_exception_mail()\n",
    "        return {'Response':{},'status':False,'string_response':'Connection to DB failed'}"
   ]
  },
  {
   "cell_type": "code",
   "execution_count": null,
   "metadata": {},
   "outputs": [],
   "source": [
    "def get_private_map_data():\n",
    "    try:\n",
    "        server_con = connections('prod_db_read')\n",
    "        v_q = \"\"\"Select timestamp,id as v_id, name,source,latitude,longitude,geoaddress,address,mob_number,email_id,status from volunteers\"\"\"\n",
    "        v_df = pd.read_sql(v_q,server_con)\n",
    "        v_df['timestamp']=pd.to_datetime(v_df['timestamp'])#.dt.tz_localize(tz='Asia/kolkata')\n",
    "        v_df = v_df[(v_df['latitude']!=0.0)&(v_df['longitude']!=0.0)&(v_df['status']==1)]\n",
    "        r_q = \"\"\"Select timestamp,id as r_id, name,source,latitude,longitude,geoaddress,request,status,address,mob_number,uuid from requests\"\"\"\n",
    "        r_df = pd.read_sql(r_q,server_con)\n",
    "        r_df['timestamp']=pd.to_datetime(r_df['timestamp'])#.dt.tz_localize(tz='Asia/kolkata')\n",
    "        r_df = r_df[(r_df['latitude']!=0.0)&(r_df['longitude']!=0.0)]\n",
    "        return {'Volunteers': v_df.to_dict('records'), 'Requests':r_df.to_dict('records')}\n",
    "    except:\n",
    "        mailer.send_exception_mail()\n",
    "        return {}\n",
    "    #return (v_df.to_json(orient='index'))\n",
    "    \n",
    "    "
   ]
  },
  {
   "cell_type": "code",
   "execution_count": null,
   "metadata": {},
   "outputs": [],
   "source": [
    "def get_public_map_data():\n",
    "    try:\n",
    "        server_con = connections('prod_db_read')\n",
    "        v_q = \"\"\"Select name,latitude,longitude,source from volunteers\"\"\"\n",
    "        v_df = pd.read_sql(v_q,server_con)    \n",
    "        v_df = v_df[(v_df['latitude']!=0.0)&(v_df['longitude']!=0.0)]\n",
    "        v_df['name']='PRIVATE USER'\n",
    "    #     v_df['radius']=0.5\n",
    "    #     geometry = v_df.apply(lambda x: Point(x['longitude'],x['latitude']).buffer(buffer_radius*x.radius),axis=1)\n",
    "    #     crs = {'init': 'epsg:4326'}\n",
    "    #     v_df = gpd.GeoDataFrame(v_df, crs=crs, geometry=geometry)\n",
    "        r_q = \"\"\"Select name,request,latitude,longitude,source from requests\"\"\"\n",
    "        r_df = pd.read_sql(r_q,server_con)\n",
    "        r_df['name']='PRIVATE USER'\n",
    "        r_df = r_df[(r_df['latitude']!=0.0)&(r_df['longitude']!=0.0)]\n",
    "        return {'Volunteers': v_df.to_dict('records'), 'Requests':r_df.to_dict('records')}\n",
    "    except:\n",
    "        mailer.send_exception_mail()\n",
    "        return {}\n"
   ]
  },
  {
   "cell_type": "code",
   "execution_count": null,
   "metadata": {},
   "outputs": [],
   "source": [
    "def website_requests_display():\n",
    "    try:\n",
    "        server_con = connections('prod_db_read')\n",
    "        query = \"\"\"Select r.id as r_id,r.uuid as uuid, rv.where as location,rv.what as requirement,rv.why as reason,r.request,\n",
    "                    rv.verification_status, r.status as status,r.timestamp as timestamp from requests r \n",
    "                    left join request_verification rv on rv.r_id=r.id where rv.r_id is not NULL\"\"\"\n",
    "        query_df = pd.read_sql(query,server_con)\n",
    "        query_df = query_df.sort_values(by=['r_id'],ascending=[False])\n",
    "        query_df['verification_status'] = query_df['verification_status'].fillna('verified')\n",
    "        if(server_type=='prod'):\n",
    "            query_df['accept_link'] = query_df['uuid'].apply(lambda x:'https://covidsos.org/accept/'+x)\n",
    "        else:\n",
    "            query_df['accept_link'] = query_df['uuid'].apply(lambda x:'https://stg.covidsos.org/accept/'+x)\n",
    "        pending_queries = query_df[(query_df['verification_status']=='verified')&(query_df['status'].isin(['received','verified','pending']))]\n",
    "        completed_queries = query_df[(query_df['verification_status']=='verified')&(query_df['status'].isin(['completed','matched','assigned']))]\n",
    "        return {'pending':pending_queries.to_dict('records'),'completed':completed_queries.to_dict('records')}\n",
    "    except:\n",
    "        mailer.send_exception_mail()\n",
    "        return {'pending':{},'completed':{}}\n"
   ]
  },
  {
   "cell_type": "code",
   "execution_count": null,
   "metadata": {},
   "outputs": [],
   "source": [
    "def website_success_stories():\n",
    "    try:\n",
    "        server_con = connections('prod_db_read')\n",
    "        query = \"\"\"Select * from success_stories\"\"\"\n",
    "        query_df = pd.read_sql(query,server_con)\n",
    "        return {'instagram':query_df.to_dict('records')}\n",
    "    except:\n",
    "        mailer.send_exception_mail()\n",
    "        return {'instagram':{}}\n"
   ]
  },
  {
   "cell_type": "code",
   "execution_count": null,
   "metadata": {},
   "outputs": [],
   "source": [
    "\n",
    "def get_user_id(username, password):\n",
    "    server_con = connections('prod_db_read')\n",
    "    query = f\"\"\"Select id, access_type from users where mob_number='{username}' or email_id='{username}' and password='{password}' order by id desc limit 1\"\"\"\n",
    "    try:\n",
    "        data = pd.read_sql(query, server_con)\n",
    "        if(data.shape[0]>0):\n",
    "            user_id = int(data.loc[0,'id'])\n",
    "            access_type = int(data.loc[0,'access_type'])\n",
    "            return user_id, access_type\n",
    "        else:\n",
    "            return None, None\n",
    "    except:\n",
    "        mailer.send_exception_mail()\n",
    "        return None, None\n",
    "    "
   ]
  },
  {
   "cell_type": "code",
   "execution_count": null,
   "metadata": {},
   "outputs": [],
   "source": [
    "def verify_user_exists(user_id, access_type):\n",
    "    server_con = connections('prod_db_read')\n",
    "    query = f\"\"\"Select id from users where id='{user_id}' and access_type='{access_type}' order by id desc limit 1\"\"\"\n",
    "    try:\n",
    "        data = pd.read_sql(query, server_con)\n",
    "        return (True if data.shape[0] > 0 else False)\n",
    "    except:\n",
    "        mailer.send_exception_mail()\n",
    "        return False\n",
    "\n",
    "def verify_volunteer_exists(mob_number, v_id=None, country=None):\n",
    "    server_con = connections('prod_db_read')\n",
    "    query = f\"\"\"Select id, name, country from volunteers where mob_number='{mob_number}'\"\"\"\n",
    "    if v_id and country:\n",
    "        query = f\"\"\"Select id, name, country from volunteers where id='{v_id}' and country='{country}'\"\"\"\n",
    "    try:\n",
    "        data = pd.read_sql(query, server_con)\n",
    "        if data.shape[0] > 0:\n",
    "            return {'status': True, 'volunteer_id': data.loc[0, 'id'],'name':data.loc[0,'name'], 'country': data.loc[0, 'country']}\n",
    "        return {'status': False, 'volunteer_id': None}\n",
    "    except:\n",
    "        mailer.send_exception_mail()\n",
    "        return {'status': False, 'volunteer_id': None}\n"
   ]
  },
  {
   "cell_type": "code",
   "execution_count": null,
   "metadata": {},
   "outputs": [],
   "source": [
    "def check_past_verification(r_id):\n",
    "    try:\n",
    "        query = f\"\"\"Select id,r_id from request_verification where r_id='{r_id}'\"\"\"\n",
    "        df_check = pd.read_sql(query,connections('prod_db_read'))\n",
    "        if(df_check.shape[0]>0):\n",
    "            return df_check.loc[0,'id'],True\n",
    "        else:\n",
    "            return None,False\n",
    "    except:\n",
    "        mailer.send_exception_mail()\n",
    "        return None,False\n"
   ]
  },
  {
   "cell_type": "code",
   "execution_count": null,
   "metadata": {},
   "outputs": [],
   "source": [
    "def get_unverified_requests():\n",
    "    try:\n",
    "        query = \"\"\"Select * from requests r where status='received'\"\"\"\n",
    "        df = pd.read_sql(query,connections('prod_db_read'))\n",
    "        df = df[~df['uuid'].isna()]\n",
    "        df = df.sort_values(by=['id'],ascending=[False])\n",
    "        if(server_type=='prod'):\n",
    "            df['verify_link'] = df['uuid'].apply(lambda x:'https://covidsos.org/verify/'+x)\n",
    "        else:\n",
    "            df['verify_link'] = df['uuid'].apply(lambda x:'https://stg.covidsos.org/verify/'+x)\n",
    "        return df\n",
    "    except:\n",
    "        mailer.send_exception_mail()\n",
    "        return pd.DataFrame()\n"
   ]
  },
  {
   "cell_type": "code",
   "execution_count": null,
   "metadata": {
    "scrolled": true
   },
   "outputs": [],
   "source": [
    "def accept_request_page(uuid):\n",
    "    query = \"\"\"Select r.id as r_id,r.name as name, r.status as status, r.geoaddress as request_address,r.latitude as latitude, r.longitude as longitude, r.volunteers_reqd as volunteers_reqd,\n",
    "            rv.what as what, rv.why as why, rv.verification_status, rv.urgent as urgent,rv.financial_assistance as financial_assistance\n",
    "            from requests r left join request_verification rv on r.id=rv.r_id\n",
    "            where r.uuid='{uuid}'\"\"\".format(uuid=uuid)\n",
    "    df = pd.read_sql(query,connections('prod_db_read'))\n",
    "    df = df[~df['verification_status'].isna()]\n",
    "    if(df.shape[0]>1):\n",
    "        df = df[0:0]\n",
    "    df['what']=df['what'].fillna('Please call senior citizen to discuss')\n",
    "    df['why']=df['why'].fillna('Senior Citizen')\n",
    "    df['financial_assistance']=df['financial_assistance'].fillna(0)\n",
    "    return df\n",
    "    \n",
    "    \n",
    "def request_data_by_uuid(uuid):\n",
    "    r_id_q = \"\"\"Select id as r_id,name,mob_number,geoaddress,latitude,longitude,request,status,timestamp,source from requests where uuid='{uuid_str}'\"\"\".format(uuid_str=uuid)\n",
    "    try:\n",
    "        r_id_df = pd.read_sql(r_id_q,connections('prod_db_read'))\n",
    "        return r_id_df\n",
    "    except:\n",
    "        mailer.send_exception_mail()\n",
    "        return pd.DataFrame()\n",
    "    \n",
    "\n",
    "def request_data_by_id(r_id):\n",
    "    r_id_q = \"\"\"Select id as r_id,name,mob_number,geoaddress,latitude,longitude,request,status,timestamp,volunteers_reqd from requests where id='{r_id}'\"\"\".format(r_id=r_id)\n",
    "    try:\n",
    "        r_id_df = pd.read_sql(r_id_q,connections('prod_db_read'))\n",
    "        return r_id_df\n",
    "    except:\n",
    "        mailer.send_exception_mail()\n",
    "        return pd.DataFrame()\n",
    "\n",
    "\n",
    "def volunteer_data_by_id(v_id):\n",
    "    v_id_q = \"\"\"Select id as v_id,name,mob_number from volunteers where id='{v_id}'\"\"\".format(v_id=v_id)\n",
    "    try:\n",
    "        v_id_df = pd.read_sql(v_id_q,connections('prod_db_read'))\n",
    "        return v_id_df\n",
    "    except:\n",
    "        mailer.send_exception_mail()\n",
    "        return pd.DataFrame()\n"
   ]
  },
  {
   "cell_type": "code",
   "execution_count": null,
   "metadata": {},
   "outputs": [],
   "source": [
    "# def folium_data_request():\n",
    "#     server_con = connections('prod_db_read')\n",
    "#     v_q = \"\"\"Select id as v_id, name,source,latitude,longitude from volunteers\"\"\"\n",
    "#     v_df = pd.read_sql(v_q,server_con)    \n",
    "#     v_df = v_df[(v_df['latitude']!=0.0)&(v_df['longitude']!=0.0)]\n",
    "#     v_df['type']='Volunteer'\n",
    "# #     v_df['radius']=0.5\n",
    "# #     geometry = v_df.apply(lambda x: Point(x['longitude'],x['latitude']).buffer(buffer_radius*x.radius),axis=1)\n",
    "# #     crs = {'init': 'epsg:4326'}\n",
    "# #     v_df = gpd.GeoDataFrame(v_df, crs=crs, geometry=geometry)\n",
    "#     r_q = \"\"\"Select id as r_id, name,source,latitude,longitude,request,status from requests\"\"\"\n",
    "#     r_df = pd.read_sql(r_q,server_con)\n",
    "#     r_df = r_df[(r_df['latitude']!=0.0)&(r_df['longitude']!=0.0)]\n",
    "#     r_df['type']='Request'\n",
    "#     return v_df,r_df"
   ]
  },
  {
   "cell_type": "code",
   "execution_count": null,
   "metadata": {},
   "outputs": [],
   "source": [
    "def get_volunteers_assigned_to_request(r_id):\n",
    "    query = f\"\"\"Select volunteer_id from request_matching where request_id={r_id}\"\"\"\n",
    "    data = pd.read_sql(query, connections('prod_db_read'))\n",
    "    if data.shape[0]==0:\n",
    "        return 0\n",
    "    return data['volunteer_id'].nunique()\n",
    "#     data = data.to_dict()\n",
    "#     volunteers = data['volunteer_id']\n",
    "#     volunteers = [volunteer for (index, volunteer) in volunteers.items()]\n",
    "#     unique_volunteers = set(volunteers)\n",
    "#     return len(unique_volunteers)"
   ]
  }
 ],
 "metadata": {
  "kernelspec": {
   "display_name": "Python 3",
   "language": "python",
   "name": "python3"
  },
  "language_info": {
   "codemirror_mode": {
    "name": "ipython",
    "version": 3
   },
   "file_extension": ".py",
   "mimetype": "text/x-python",
   "name": "python",
   "nbconvert_exporter": "python",
   "pygments_lexer": "ipython3",
   "version": "3.7.6"
  }
 },
 "nbformat": 4,
 "nbformat_minor": 4
}
